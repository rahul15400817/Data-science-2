{
 "cells": [
  {
   "cell_type": "code",
   "execution_count": 1,
   "id": "1747280c",
   "metadata": {},
   "outputs": [],
   "source": [
    "import scipy.stats as st\n",
    "import numpy as np"
   ]
  },
  {
   "cell_type": "code",
   "execution_count": 2,
   "id": "7ec2cfd3",
   "metadata": {},
   "outputs": [],
   "source": [
    "#z-test\n",
    " \n"
   ]
  },
  {
   "cell_type": "code",
   "execution_count": 3,
   "id": "a7804cfc",
   "metadata": {},
   "outputs": [],
   "source": [
    "s_x=90\n",
    "p_u=82\n",
    "p_std=20\n",
    "n=81\n",
    "ap=0.05"
   ]
  },
  {
   "cell_type": "code",
   "execution_count": 4,
   "id": "f6f619d4",
   "metadata": {},
   "outputs": [],
   "source": [
    "z_cal=(s_x-p_u)/(p_std/np.sqrt(n))"
   ]
  },
  {
   "cell_type": "code",
   "execution_count": 5,
   "id": "cb397efb",
   "metadata": {},
   "outputs": [
    {
     "data": {
      "text/plain": [
       "3.5999999999999996"
      ]
     },
     "execution_count": 5,
     "metadata": {},
     "output_type": "execute_result"
    }
   ],
   "source": [
    "z_cal"
   ]
  },
  {
   "cell_type": "code",
   "execution_count": 6,
   "id": "39c1ba30",
   "metadata": {},
   "outputs": [
    {
     "data": {
      "text/plain": [
       "1.6448536269514722"
      ]
     },
     "execution_count": 6,
     "metadata": {},
     "output_type": "execute_result"
    }
   ],
   "source": [
    "z_value=st.norm.ppf(1-ap)\n",
    "z_value"
   ]
  },
  {
   "cell_type": "code",
   "execution_count": 7,
   "id": "96ec4f86",
   "metadata": {},
   "outputs": [
    {
     "name": "stdout",
     "output_type": "stream",
     "text": [
      "Ha is right\n"
     ]
    }
   ],
   "source": [
    "if z_value<z_cal:\n",
    "    print(\"Ha is right\")\n",
    "else:\n",
    "    print(\"Ho is right\")"
   ]
  },
  {
   "cell_type": "code",
   "execution_count": 8,
   "id": "e083ea43",
   "metadata": {},
   "outputs": [],
   "source": [
    "#T-test\n",
    "m_pop=150\n",
    "m_sample=148\n",
    "std_sample=5\n",
    "n=25\n",
    "ap=0.05"
   ]
  },
  {
   "cell_type": "code",
   "execution_count": 10,
   "id": "883e9eb4",
   "metadata": {},
   "outputs": [
    {
     "data": {
      "text/plain": [
       "-1.7108820799094282"
      ]
     },
     "execution_count": 10,
     "metadata": {},
     "output_type": "execute_result"
    }
   ],
   "source": [
    "t_table=st.t.ppf(0.05,24)\n",
    "t_table"
   ]
  },
  {
   "cell_type": "code",
   "execution_count": 12,
   "id": "7e4fe008",
   "metadata": {},
   "outputs": [
    {
     "data": {
      "text/plain": [
       "-2.0"
      ]
     },
     "execution_count": 12,
     "metadata": {},
     "output_type": "execute_result"
    }
   ],
   "source": [
    "t_cal=(m_sample-m_pop)/(std_sample/np.sqrt(n))\n",
    "t_cal"
   ]
  },
  {
   "cell_type": "code",
   "execution_count": 13,
   "id": "2672396c",
   "metadata": {},
   "outputs": [
    {
     "data": {
      "text/plain": [
       "-2.1266740201670196"
      ]
     },
     "execution_count": 13,
     "metadata": {},
     "output_type": "execute_result"
    }
   ],
   "source": [
    "t_table=st.t.ppf(0.02,38)\n",
    "t_table"
   ]
  },
  {
   "cell_type": "code",
   "execution_count": null,
   "id": "7e86f13f",
   "metadata": {},
   "outputs": [],
   "source": []
  }
 ],
 "metadata": {
  "kernelspec": {
   "display_name": "Python 3 (ipykernel)",
   "language": "python",
   "name": "python3"
  },
  "language_info": {
   "codemirror_mode": {
    "name": "ipython",
    "version": 3
   },
   "file_extension": ".py",
   "mimetype": "text/x-python",
   "name": "python",
   "nbconvert_exporter": "python",
   "pygments_lexer": "ipython3",
   "version": "3.9.12"
  }
 },
 "nbformat": 4,
 "nbformat_minor": 5
}
