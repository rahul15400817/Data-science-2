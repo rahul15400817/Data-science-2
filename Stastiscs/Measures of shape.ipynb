{
 "cells": [
  {
   "cell_type": "code",
   "execution_count": 1,
   "id": "8bb74417",
   "metadata": {},
   "outputs": [],
   "source": [
    "import pandas as pd\n",
    "import numpy as np \n",
    "import matplotlib.pyplot as plt\n",
    "import seaborn as sns"
   ]
  },
  {
   "cell_type": "code",
   "execution_count": 2,
   "id": "a8b1b3b9",
   "metadata": {},
   "outputs": [],
   "source": [
    "titanic=pd.read_csv('titanic.csv')"
   ]
  },
  {
   "cell_type": "code",
   "execution_count": 3,
   "id": "dbac4da8",
   "metadata": {},
   "outputs": [
    {
     "data": {
      "text/plain": [
       "0.38910778230082704"
      ]
     },
     "execution_count": 3,
     "metadata": {},
     "output_type": "execute_result"
    }
   ],
   "source": [
    "titanic['Age'].skew()"
   ]
  },
  {
   "cell_type": "code",
   "execution_count": 4,
   "id": "30386aa6",
   "metadata": {},
   "outputs": [
    {
     "data": {
      "image/png": "[encoded data removed]",
      "text/plain": [
       "<Figure size 432x288 with 1 Axes>"
      ]
     },
     "metadata": {
      "needs_background": "light"
     },
     "output_type": "display_data"
    }
   ],
   "source": [
    "#since skew value greater than zero so,it is a positive skewed chart\n",
    "sns.histplot(x='Age',data=titanic,color='red')\n",
    "plt.show()"
   ]
  },
  {
   "cell_type": "code",
   "execution_count": 5,
   "id": "b7ef5b0c",
   "metadata": {},
   "outputs": [
    {
     "data": {
      "text/plain": [
       "x    0.0\n",
       "dtype: float64"
      ]
     },
     "execution_count": 5,
     "metadata": {},
     "output_type": "execute_result"
    }
   ],
   "source": [
    "data1=[2,3,3,4,4,4,5,5,5,5,6,6,6,6,6,7,7,7,7,7,7,8,8,8,8,8,9,9,9,9,10,10,10,11,11,12]\n",
    "df1=pd.DataFrame({'x':data1})\n",
    "df1.skew()\n"
   ]
  },
  {
   "cell_type": "code",
   "execution_count": 6,
   "id": "c7081f91",
   "metadata": {},
   "outputs": [],
   "source": [
    "mn=np.mean(df1['x'])\n",
    "md=np.median(df1['x'])\n",
    "mo=df1['x'].mode()[0]"
   ]
  },
  {
   "cell_type": "code",
   "execution_count": 7,
   "id": "4d2341dd",
   "metadata": {},
   "outputs": [
    {
     "data": {
      "image/png": "[encoded data removed]",
      "text/plain": [
       "<Figure size 432x288 with 1 Axes>"
      ]
     },
     "metadata": {
      "needs_background": "light"
     },
     "output_type": "display_data"
    }
   ],
   "source": [
    "sns.histplot(x='x',data=df1,bins=[2,3,4,5,6,7,8,9,10,11,12,13])\n",
    "plt.plot([mn for i in [0,1,2,3,4,5,6,7,8,9]],[i for i in [0,1,2,3,4,5,6,7,8,9]],c='olive')\n",
    "plt.plot([md for i in [0,1,2,3,4,5,6,7,8]],[i for i in [0,1,2,3,4,5,6,7,8]],c='red')\n",
    "plt.plot([mo for i in [0,1,2,3,4,5,6,7]],[i for i in [0,1,2,3,4,5,6,7]],c='blue')\n",
    "plt.show()"
   ]
  },
  {
   "cell_type": "code",
   "execution_count": 8,
   "id": "2eb08968",
   "metadata": {},
   "outputs": [],
   "source": [
    "data=np.random.normal(0,100,100)"
   ]
  },
  {
   "cell_type": "code",
   "execution_count": 9,
   "id": "f5f76807",
   "metadata": {},
   "outputs": [
    {
     "data": {
      "text/plain": [
       "x    0.528306\n",
       "dtype: float64"
      ]
     },
     "execution_count": 9,
     "metadata": {},
     "output_type": "execute_result"
    }
   ],
   "source": [
    "df=pd.DataFrame({'x':data})\n",
    "df.skew()"
   ]
  },
  {
   "cell_type": "code",
   "execution_count": 10,
   "id": "a471b3b1",
   "metadata": {},
   "outputs": [],
   "source": [
    "mn=df['x'].mean()\n",
    "md=df['x'].median()\n",
    "mo=df['x'].mode()"
   ]
  },
  {
   "cell_type": "code",
   "execution_count": 11,
   "id": "05c6c948",
   "metadata": {},
   "outputs": [
    {
     "data": {
      "image/png": "[encoded data removed]",
      "text/plain": [
       "<Figure size 432x288 with 1 Axes>"
      ]
     },
     "metadata": {
      "needs_background": "light"
     },
     "output_type": "display_data"
    }
   ],
   "source": [
    "sns.histplot(x='x',data=df)\n",
    "plt.show()"
   ]
  },
  {
   "cell_type": "code",
   "execution_count": null,
   "id": "3292b45e",
   "metadata": {},
   "outputs": [],
   "source": []
  }
 ],
 "metadata": {
  "kernelspec": {
   "display_name": "Python 3 (ipykernel)",
   "language": "python",
   "name": "python3"
  },
  "language_info": {
   "codemirror_mode": {
    "name": "ipython",
    "version": 3
   },
   "file_extension": ".py",
   "mimetype": "text/x-python",
   "name": "python",
   "nbconvert_exporter": "python",
   "pygments_lexer": "ipython3",
   "version": "3.9.12"
  }
 },
 "nbformat": 4,
 "nbformat_minor": 5
}
