{
 "cells": [
  {
   "cell_type": "code",
   "execution_count": 1,
   "id": "ee848340",
   "metadata": {},
   "outputs": [],
   "source": [
    "import numpy as np"
   ]
  },
  {
   "cell_type": "code",
   "execution_count": 2,
   "id": "2f4bb342",
   "metadata": {},
   "outputs": [],
   "source": [
    "ob=np.array([22,17,20,26,22,13])\n",
    "es=np.array([20,20,20,20,20,20])"
   ]
  },
  {
   "cell_type": "code",
   "execution_count": 3,
   "id": "d200063a",
   "metadata": {},
   "outputs": [
    {
     "data": {
      "text/plain": [
       "array([ 2, -3,  0,  6,  2, -7])"
      ]
     },
     "execution_count": 3,
     "metadata": {},
     "output_type": "execute_result"
    }
   ],
   "source": [
    "ob-es"
   ]
  },
  {
   "cell_type": "code",
   "execution_count": 4,
   "id": "f2dce0f2",
   "metadata": {},
   "outputs": [
    {
     "data": {
      "text/plain": [
       "5.1000000000000005"
      ]
     },
     "execution_count": 4,
     "metadata": {},
     "output_type": "execute_result"
    }
   ],
   "source": [
    "np.sum(np.square(ob-es)/es)"
   ]
  },
  {
   "cell_type": "code",
   "execution_count": 5,
   "id": "aaefdba5",
   "metadata": {},
   "outputs": [],
   "source": [
    "import scipy.stats as st"
   ]
  },
  {
   "cell_type": "code",
   "execution_count": 6,
   "id": "2e964f88",
   "metadata": {},
   "outputs": [
    {
     "data": {
      "text/plain": [
       "0.5931663491376357"
      ]
     },
     "execution_count": 6,
     "metadata": {},
     "output_type": "execute_result"
    }
   ],
   "source": [
    "chi_table=st.chi.ppf(0.05,3)\n",
    "chi_table"
   ]
  },
  {
   "cell_type": "code",
   "execution_count": 7,
   "id": "3df570df",
   "metadata": {},
   "outputs": [],
   "source": [
    "row1=np.array([40,45,25,10])\n",
    "row2=np.array([35,30,20,30])"
   ]
  },
  {
   "cell_type": "code",
   "execution_count": 8,
   "id": "01660cfe",
   "metadata": {},
   "outputs": [],
   "source": [
    "sum_r1=np.sum(row1)\n",
    "sum_r2=np.sum(row2)"
   ]
  },
  {
   "cell_type": "code",
   "execution_count": 9,
   "id": "b6bcf9e1",
   "metadata": {},
   "outputs": [],
   "source": [
    "import pandas as pd"
   ]
  },
  {
   "cell_type": "code",
   "execution_count": 10,
   "id": "af6746bd",
   "metadata": {},
   "outputs": [],
   "source": [
    "dataset=pd.DataFrame([row1,row2])"
   ]
  },
  {
   "cell_type": "code",
   "execution_count": 11,
   "id": "94ca0211",
   "metadata": {},
   "outputs": [
    {
     "data": {
      "text/html": [
       "<div>\n",
       "<style scoped>\n",
       "    .dataframe tbody tr th:only-of-type {\n",
       "        vertical-align: middle;\n",
       "    }\n",
       "\n",
       "    .dataframe tbody tr th {\n",
       "        vertical-align: top;\n",
       "    }\n",
       "\n",
       "    .dataframe thead th {\n",
       "        text-align: right;\n",
       "    }\n",
       "</style>\n",
       "<table border=\"1\" class=\"dataframe\">\n",
       "  <thead>\n",
       "    <tr style=\"text-align: right;\">\n",
       "      <th></th>\n",
       "      <th>0</th>\n",
       "      <th>1</th>\n",
       "      <th>2</th>\n",
       "      <th>3</th>\n",
       "    </tr>\n",
       "  </thead>\n",
       "  <tbody>\n",
       "    <tr>\n",
       "      <th>0</th>\n",
       "      <td>40</td>\n",
       "      <td>45</td>\n",
       "      <td>25</td>\n",
       "      <td>10</td>\n",
       "    </tr>\n",
       "    <tr>\n",
       "      <th>1</th>\n",
       "      <td>35</td>\n",
       "      <td>30</td>\n",
       "      <td>20</td>\n",
       "      <td>30</td>\n",
       "    </tr>\n",
       "  </tbody>\n",
       "</table>\n",
       "</div>"
      ],
      "text/plain": [
       "    0   1   2   3\n",
       "0  40  45  25  10\n",
       "1  35  30  20  30"
      ]
     },
     "execution_count": 11,
     "metadata": {},
     "output_type": "execute_result"
    }
   ],
   "source": [
    "dataset"
   ]
  },
  {
   "cell_type": "code",
   "execution_count": 12,
   "id": "a7eab8a3",
   "metadata": {},
   "outputs": [],
   "source": [
    "sum_c1=np.sum(dataset[0])\n",
    "sum_c2=np.sum(dataset[1])\n",
    "sum_c3=np.sum(dataset[2])\n",
    "sum_c4=np.sum(dataset[3])"
   ]
  },
  {
   "cell_type": "code",
   "execution_count": 13,
   "id": "46cd9879",
   "metadata": {},
   "outputs": [],
   "source": [
    "sum_cal=np.array([sum_c1,sum_c2,sum_c3,sum_c4])"
   ]
  },
  {
   "cell_type": "code",
   "execution_count": 14,
   "id": "78ebb697",
   "metadata": {},
   "outputs": [
    {
     "data": {
      "text/plain": [
       "array([75, 75, 45, 40], dtype=int64)"
      ]
     },
     "execution_count": 14,
     "metadata": {},
     "output_type": "execute_result"
    }
   ],
   "source": [
    "sum_cal"
   ]
  },
  {
   "cell_type": "code",
   "execution_count": 15,
   "id": "fb6f1d31",
   "metadata": {},
   "outputs": [],
   "source": [
    "sum_cal=row1+row2"
   ]
  },
  {
   "cell_type": "code",
   "execution_count": 16,
   "id": "91875678",
   "metadata": {},
   "outputs": [
    {
     "data": {
      "text/plain": [
       "array([75, 75, 45, 40])"
      ]
     },
     "execution_count": 16,
     "metadata": {},
     "output_type": "execute_result"
    }
   ],
   "source": [
    "sum_cal"
   ]
  },
  {
   "cell_type": "code",
   "execution_count": 17,
   "id": "86d2c308",
   "metadata": {},
   "outputs": [],
   "source": [
    "sum_row=np.array([sum_r1,sum_r2])"
   ]
  },
  {
   "cell_type": "code",
   "execution_count": 18,
   "id": "676b7ab2",
   "metadata": {},
   "outputs": [
    {
     "data": {
      "text/plain": [
       "array([120, 115])"
      ]
     },
     "execution_count": 18,
     "metadata": {},
     "output_type": "execute_result"
    }
   ],
   "source": [
    "sum_row"
   ]
  },
  {
   "cell_type": "code",
   "execution_count": 19,
   "id": "f0fdd1ae",
   "metadata": {},
   "outputs": [],
   "source": [
    "n=235\n",
    "exp = []\n",
    "for i in range(0,2):\n",
    "    for j in range(0,4):\n",
    "        value=(sum_row[i]*sum_cal[j])/n\n",
    "        exp.append(value)\n",
    "        "
   ]
  },
  {
   "cell_type": "code",
   "execution_count": 20,
   "id": "26446ed1",
   "metadata": {},
   "outputs": [
    {
     "data": {
      "text/plain": [
       "[38.297872340425535,\n",
       " 38.297872340425535,\n",
       " 22.97872340425532,\n",
       " 20.425531914893618,\n",
       " 36.702127659574465,\n",
       " 36.702127659574465,\n",
       " 22.02127659574468,\n",
       " 19.574468085106382]"
      ]
     },
     "execution_count": 20,
     "metadata": {},
     "output_type": "execute_result"
    }
   ],
   "source": [
    "exp"
   ]
  },
  {
   "cell_type": "code",
   "execution_count": 21,
   "id": "71c45882",
   "metadata": {},
   "outputs": [
    {
     "data": {
      "text/plain": [
       "array([40, 45, 25, 10, 35, 30, 20, 30])"
      ]
     },
     "execution_count": 21,
     "metadata": {},
     "output_type": "execute_result"
    }
   ],
   "source": [
    "obj=np.array([40,45,25,10,35,30,20,30])\n",
    "obj"
   ]
  },
  {
   "cell_type": "code",
   "execution_count": 22,
   "id": "71f645cf",
   "metadata": {},
   "outputs": [],
   "source": [
    "chi_cal=np.sum(np.square(obj-exp)/exp)"
   ]
  },
  {
   "cell_type": "code",
   "execution_count": 23,
   "id": "0f76e210",
   "metadata": {},
   "outputs": [
    {
     "data": {
      "text/plain": [
       "13.788747987117553"
      ]
     },
     "execution_count": 23,
     "metadata": {},
     "output_type": "execute_result"
    }
   ],
   "source": [
    "chi_cal"
   ]
  },
  {
   "cell_type": "code",
   "execution_count": null,
   "id": "fa876db2",
   "metadata": {},
   "outputs": [],
   "source": []
  }
 ],
 "metadata": {
  "kernelspec": {
   "display_name": "Python 3 (ipykernel)",
   "language": "python",
   "name": "python3"
  },
  "language_info": {
   "codemirror_mode": {
    "name": "ipython",
    "version": 3
   },
   "file_extension": ".py",
   "mimetype": "text/x-python",
   "name": "python",
   "nbconvert_exporter": "python",
   "pygments_lexer": "ipython3",
   "version": "3.9.12"
  }
 },
 "nbformat": 4,
 "nbformat_minor": 5
}
