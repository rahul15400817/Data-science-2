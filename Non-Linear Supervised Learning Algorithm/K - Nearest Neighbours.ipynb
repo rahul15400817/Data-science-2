{
 "cells": [
  {
   "cell_type": "code",
   "execution_count": 1,
   "id": "ac0ce3af",
   "metadata": {},
   "outputs": [
    {
     "name": "stderr",
     "output_type": "stream",
     "text": [
      "C:\\Users\\rku68\\anaconda3\\lib\\site-packages\\scipy\\__init__.py:146: UserWarning: A NumPy version >=1.16.5 and <1.23.0 is required for this version of SciPy (detected version 1.26.4\n",
      "  warnings.warn(f\"A NumPy version >={np_minversion} and <{np_maxversion}\"\n"
     ]
    }
   ],
   "source": [
    "import pandas as pd\n",
    "import matplotlib.pyplot as plt\n",
    "import seaborn as sns"
   ]
  },
  {
   "cell_type": "code",
   "execution_count": 2,
   "id": "c4a10b41",
   "metadata": {},
   "outputs": [],
   "source": [
    "social=pd.read_csv(r\"C:\\Users\\rku68\\OneDrive\\Desktop\\csv\\socialn.csv\")"
   ]
  },
  {
   "cell_type": "code",
   "execution_count": 3,
   "id": "099f0430",
   "metadata": {},
   "outputs": [
    {
     "data": {
      "text/html": [
       "<div>\n",
       "<style scoped>\n",
       "    .dataframe tbody tr th:only-of-type {\n",
       "        vertical-align: middle;\n",
       "    }\n",
       "\n",
       "    .dataframe tbody tr th {\n",
       "        vertical-align: top;\n",
       "    }\n",
       "\n",
       "    .dataframe thead th {\n",
       "        text-align: right;\n",
       "    }\n",
       "</style>\n",
       "<table border=\"1\" class=\"dataframe\">\n",
       "  <thead>\n",
       "    <tr style=\"text-align: right;\">\n",
       "      <th></th>\n",
       "      <th>Age</th>\n",
       "      <th>EstimatedSalary</th>\n",
       "      <th>Purchased</th>\n",
       "    </tr>\n",
       "  </thead>\n",
       "  <tbody>\n",
       "    <tr>\n",
       "      <th>0</th>\n",
       "      <td>19</td>\n",
       "      <td>19000</td>\n",
       "      <td>0</td>\n",
       "    </tr>\n",
       "    <tr>\n",
       "      <th>1</th>\n",
       "      <td>35</td>\n",
       "      <td>20000</td>\n",
       "      <td>0</td>\n",
       "    </tr>\n",
       "    <tr>\n",
       "      <th>2</th>\n",
       "      <td>26</td>\n",
       "      <td>43000</td>\n",
       "      <td>0</td>\n",
       "    </tr>\n",
       "  </tbody>\n",
       "</table>\n",
       "</div>"
      ],
      "text/plain": [
       "   Age  EstimatedSalary  Purchased\n",
       "0   19            19000          0\n",
       "1   35            20000          0\n",
       "2   26            43000          0"
      ]
     },
     "execution_count": 3,
     "metadata": {},
     "output_type": "execute_result"
    }
   ],
   "source": [
    "social.head(3)"
   ]
  },
  {
   "cell_type": "code",
   "execution_count": 4,
   "id": "d8dbd160",
   "metadata": {},
   "outputs": [
    {
     "data": {
      "text/plain": [
       "Age                0\n",
       "EstimatedSalary    0\n",
       "Purchased          0\n",
       "dtype: int64"
      ]
     },
     "execution_count": 4,
     "metadata": {},
     "output_type": "execute_result"
    }
   ],
   "source": [
    "social.isnull().sum()"
   ]
  },
  {
   "cell_type": "code",
   "execution_count": 5,
   "id": "2cb43bf3",
   "metadata": {},
   "outputs": [],
   "source": [
    "x=social.iloc[:,:-1]\n",
    "y=social['Purchased']"
   ]
  },
  {
   "cell_type": "code",
   "execution_count": 6,
   "id": "94b062b9",
   "metadata": {},
   "outputs": [],
   "source": [
    "from sklearn.preprocessing import StandardScaler"
   ]
  },
  {
   "cell_type": "code",
   "execution_count": 7,
   "id": "bb7c07af",
   "metadata": {},
   "outputs": [],
   "source": [
    "ss=StandardScaler()"
   ]
  },
  {
   "cell_type": "code",
   "execution_count": 8,
   "id": "0f88007b",
   "metadata": {},
   "outputs": [],
   "source": [
    "ss.fit(x)\n",
    "x=pd.DataFrame(ss.transform(x),columns=x.columns)"
   ]
  },
  {
   "cell_type": "code",
   "execution_count": 9,
   "id": "bc0759c0",
   "metadata": {},
   "outputs": [
    {
     "data": {
      "text/html": [
       "<div>\n",
       "<style scoped>\n",
       "    .dataframe tbody tr th:only-of-type {\n",
       "        vertical-align: middle;\n",
       "    }\n",
       "\n",
       "    .dataframe tbody tr th {\n",
       "        vertical-align: top;\n",
       "    }\n",
       "\n",
       "    .dataframe thead th {\n",
       "        text-align: right;\n",
       "    }\n",
       "</style>\n",
       "<table border=\"1\" class=\"dataframe\">\n",
       "  <thead>\n",
       "    <tr style=\"text-align: right;\">\n",
       "      <th></th>\n",
       "      <th>Age</th>\n",
       "      <th>EstimatedSalary</th>\n",
       "    </tr>\n",
       "  </thead>\n",
       "  <tbody>\n",
       "    <tr>\n",
       "      <th>0</th>\n",
       "      <td>-1.781797</td>\n",
       "      <td>-1.490046</td>\n",
       "    </tr>\n",
       "    <tr>\n",
       "      <th>1</th>\n",
       "      <td>-0.253587</td>\n",
       "      <td>-1.460681</td>\n",
       "    </tr>\n",
       "    <tr>\n",
       "      <th>2</th>\n",
       "      <td>-1.113206</td>\n",
       "      <td>-0.785290</td>\n",
       "    </tr>\n",
       "    <tr>\n",
       "      <th>3</th>\n",
       "      <td>-1.017692</td>\n",
       "      <td>-0.374182</td>\n",
       "    </tr>\n",
       "    <tr>\n",
       "      <th>4</th>\n",
       "      <td>-1.781797</td>\n",
       "      <td>0.183751</td>\n",
       "    </tr>\n",
       "    <tr>\n",
       "      <th>...</th>\n",
       "      <td>...</td>\n",
       "      <td>...</td>\n",
       "    </tr>\n",
       "    <tr>\n",
       "      <th>395</th>\n",
       "      <td>0.797057</td>\n",
       "      <td>-0.844019</td>\n",
       "    </tr>\n",
       "    <tr>\n",
       "      <th>396</th>\n",
       "      <td>1.274623</td>\n",
       "      <td>-1.372587</td>\n",
       "    </tr>\n",
       "    <tr>\n",
       "      <th>397</th>\n",
       "      <td>1.179110</td>\n",
       "      <td>-1.460681</td>\n",
       "    </tr>\n",
       "    <tr>\n",
       "      <th>398</th>\n",
       "      <td>-0.158074</td>\n",
       "      <td>-1.078938</td>\n",
       "    </tr>\n",
       "    <tr>\n",
       "      <th>399</th>\n",
       "      <td>1.083596</td>\n",
       "      <td>-0.990844</td>\n",
       "    </tr>\n",
       "  </tbody>\n",
       "</table>\n",
       "<p>400 rows × 2 columns</p>\n",
       "</div>"
      ],
      "text/plain": [
       "          Age  EstimatedSalary\n",
       "0   -1.781797        -1.490046\n",
       "1   -0.253587        -1.460681\n",
       "2   -1.113206        -0.785290\n",
       "3   -1.017692        -0.374182\n",
       "4   -1.781797         0.183751\n",
       "..        ...              ...\n",
       "395  0.797057        -0.844019\n",
       "396  1.274623        -1.372587\n",
       "397  1.179110        -1.460681\n",
       "398 -0.158074        -1.078938\n",
       "399  1.083596        -0.990844\n",
       "\n",
       "[400 rows x 2 columns]"
      ]
     },
     "execution_count": 9,
     "metadata": {},
     "output_type": "execute_result"
    }
   ],
   "source": [
    "x"
   ]
  },
  {
   "cell_type": "code",
   "execution_count": 10,
   "id": "7b47082c",
   "metadata": {},
   "outputs": [],
   "source": [
    "from sklearn.model_selection import train_test_split"
   ]
  },
  {
   "cell_type": "code",
   "execution_count": 11,
   "id": "591dcf93",
   "metadata": {},
   "outputs": [],
   "source": [
    "x_train,x_test,y_train,y_test=train_test_split(x,y,test_size=0.20,random_state=42)"
   ]
  },
  {
   "cell_type": "code",
   "execution_count": 12,
   "id": "c4401c79",
   "metadata": {},
   "outputs": [],
   "source": [
    "from sklearn.neighbors import KNeighborsClassifier"
   ]
  },
  {
   "cell_type": "code",
   "execution_count": 13,
   "id": "8936c169",
   "metadata": {},
   "outputs": [],
   "source": [
    "knn=KNeighborsClassifier(n_neighbors=3)"
   ]
  },
  {
   "cell_type": "code",
   "execution_count": 14,
   "id": "5a7e616f",
   "metadata": {},
   "outputs": [
    {
     "data": {
      "text/plain": [
       "KNeighborsClassifier(n_neighbors=3)"
      ]
     },
     "execution_count": 14,
     "metadata": {},
     "output_type": "execute_result"
    }
   ],
   "source": [
    "knn.fit(x_train,y_train)"
   ]
  },
  {
   "cell_type": "code",
   "execution_count": 15,
   "id": "4b840530",
   "metadata": {},
   "outputs": [
    {
     "data": {
      "text/plain": [
       "91.25"
      ]
     },
     "execution_count": 15,
     "metadata": {},
     "output_type": "execute_result"
    }
   ],
   "source": [
    "knn.score(x_test,y_test)*100"
   ]
  },
  {
   "cell_type": "code",
   "execution_count": 16,
   "id": "c4d08cfe",
   "metadata": {},
   "outputs": [
    {
     "data": {
      "text/plain": [
       "92.5"
      ]
     },
     "execution_count": 16,
     "metadata": {},
     "output_type": "execute_result"
    }
   ],
   "source": [
    "knn.score(x_train,y_train)*100"
   ]
  },
  {
   "cell_type": "code",
   "execution_count": 17,
   "id": "899e9b6a",
   "metadata": {},
   "outputs": [
    {
     "name": "stdout",
     "output_type": "stream",
     "text": [
      "1 99.6875 85.0\n",
      "2 91.5625 86.25\n",
      "3 92.5 91.25\n",
      "4 91.875 92.5\n",
      "5 90.9375 92.5\n",
      "6 90.9375 90.0\n",
      "7 91.875 93.75\n",
      "8 90.625 92.5\n",
      "9 91.25 93.75\n",
      "10 90.625 92.5\n",
      "11 90.9375 92.5\n",
      "12 91.25 92.5\n",
      "13 91.5625 92.5\n",
      "14 90.625 92.5\n",
      "15 90.625 92.5\n",
      "16 90.0 92.5\n",
      "17 90.625 92.5\n",
      "18 90.0 92.5\n",
      "19 90.9375 92.5\n",
      "20 90.0 93.75\n",
      "21 90.3125 92.5\n",
      "22 90.0 93.75\n",
      "23 90.3125 93.75\n",
      "24 89.375 93.75\n",
      "25 90.0 93.75\n",
      "26 89.375 93.75\n",
      "27 89.375 92.5\n",
      "28 88.75 93.75\n",
      "29 88.75 93.75\n"
     ]
    }
   ],
   "source": [
    "for i in range(1,30):\n",
    "    knn1=KNeighborsClassifier(n_neighbors=i)\n",
    "    knn1.fit(x_train,y_train)\n",
    "    print(i,knn1.score(x_train,y_train)*100,knn1.score(x_test,y_test)*100)"
   ]
  },
  {
   "cell_type": "code",
   "execution_count": 18,
   "id": "4969fac6",
   "metadata": {},
   "outputs": [
    {
     "name": "stderr",
     "output_type": "stream",
     "text": [
      "C:\\Users\\rku68\\anaconda3\\lib\\site-packages\\sklearn\\base.py:450: UserWarning: X does not have valid feature names, but KNeighborsClassifier was fitted with feature names\n",
      "  warnings.warn(\n"
     ]
    },
    {
     "data": {
      "text/plain": [
       "array([1], dtype=int64)"
      ]
     },
     "execution_count": 18,
     "metadata": {},
     "output_type": "execute_result"
    }
   ],
   "source": [
    "knn.predict([[1.083596,-0.990844]])"
   ]
  },
  {
   "cell_type": "code",
   "execution_count": null,
   "id": "f76603e4",
   "metadata": {},
   "outputs": [],
   "source": [
    "x,y"
   ]
  },
  {
   "cell_type": "code",
   "execution_count": null,
   "id": "99e08225",
   "metadata": {},
   "outputs": [],
   "source": [
    "from mlxtend.plotting import plot_decision_regions"
   ]
  },
  {
   "cell_type": "code",
   "execution_count": null,
   "id": "6a54795b",
   "metadata": {},
   "outputs": [],
   "source": [
    "plot_decision_regions(x.to_numpy(),y.to_numpy(),clf=knn)\n",
    "plt.show()"
   ]
  },
  {
   "cell_type": "code",
   "execution_count": null,
   "id": "46775df0",
   "metadata": {},
   "outputs": [],
   "source": []
  }
 ],
 "metadata": {
  "kernelspec": {
   "display_name": "Python 3 (ipykernel)",
   "language": "python",
   "name": "python3"
  },
  "language_info": {
   "codemirror_mode": {
    "name": "ipython",
    "version": 3
   },
   "file_extension": ".py",
   "mimetype": "text/x-python",
   "name": "python",
   "nbconvert_exporter": "python",
   "pygments_lexer": "ipython3",
   "version": "3.9.12"
  }
 },
 "nbformat": 4,
 "nbformat_minor": 5
}
