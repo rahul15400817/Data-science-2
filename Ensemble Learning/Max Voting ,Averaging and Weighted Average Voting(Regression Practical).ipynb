{
 "cells": [
  {
   "cell_type": "code",
   "execution_count": 1,
   "id": "89fe33bf",
   "metadata": {},
   "outputs": [],
   "source": [
    "import pandas as pd"
   ]
  },
  {
   "cell_type": "code",
   "execution_count": 2,
   "id": "55d6cd33",
   "metadata": {},
   "outputs": [],
   "source": [
    "placed=pd.read_csv(r'C:\\Users\\rku68\\OneDrive\\Desktop\\csv\\placement.csv')"
   ]
  },
  {
   "cell_type": "code",
   "execution_count": 3,
   "id": "12291883",
   "metadata": {},
   "outputs": [
    {
     "data": {
      "text/html": [
       "<div>\n",
       "<style scoped>\n",
       "    .dataframe tbody tr th:only-of-type {\n",
       "        vertical-align: middle;\n",
       "    }\n",
       "\n",
       "    .dataframe tbody tr th {\n",
       "        vertical-align: top;\n",
       "    }\n",
       "\n",
       "    .dataframe thead th {\n",
       "        text-align: right;\n",
       "    }\n",
       "</style>\n",
       "<table border=\"1\" class=\"dataframe\">\n",
       "  <thead>\n",
       "    <tr style=\"text-align: right;\">\n",
       "      <th></th>\n",
       "      <th>cgpa</th>\n",
       "      <th>package</th>\n",
       "    </tr>\n",
       "  </thead>\n",
       "  <tbody>\n",
       "    <tr>\n",
       "      <th>0</th>\n",
       "      <td>6.89</td>\n",
       "      <td>3.26</td>\n",
       "    </tr>\n",
       "    <tr>\n",
       "      <th>1</th>\n",
       "      <td>5.12</td>\n",
       "      <td>1.98</td>\n",
       "    </tr>\n",
       "    <tr>\n",
       "      <th>2</th>\n",
       "      <td>7.82</td>\n",
       "      <td>3.25</td>\n",
       "    </tr>\n",
       "  </tbody>\n",
       "</table>\n",
       "</div>"
      ],
      "text/plain": [
       "   cgpa  package\n",
       "0  6.89     3.26\n",
       "1  5.12     1.98\n",
       "2  7.82     3.25"
      ]
     },
     "execution_count": 3,
     "metadata": {},
     "output_type": "execute_result"
    }
   ],
   "source": [
    "placed.head(3)"
   ]
  },
  {
   "cell_type": "code",
   "execution_count": 4,
   "id": "bd52c732",
   "metadata": {},
   "outputs": [],
   "source": [
    "x=placed.iloc[:,:-1]\n",
    "y=placed['package']"
   ]
  },
  {
   "cell_type": "code",
   "execution_count": 5,
   "id": "95bf2ddf",
   "metadata": {},
   "outputs": [
    {
     "name": "stderr",
     "output_type": "stream",
     "text": [
      "C:\\Users\\rku68\\anaconda3\\lib\\site-packages\\scipy\\__init__.py:146: UserWarning: A NumPy version >=1.16.5 and <1.23.0 is required for this version of SciPy (detected version 1.26.4\n",
      "  warnings.warn(f\"A NumPy version >={np_minversion} and <{np_maxversion}\"\n"
     ]
    }
   ],
   "source": [
    "from sklearn.model_selection import train_test_split"
   ]
  },
  {
   "cell_type": "code",
   "execution_count": 6,
   "id": "5662fbac",
   "metadata": {},
   "outputs": [],
   "source": [
    "x_train,x_test,y_train,y_test=train_test_split(x,y,test_size=0.2,random_state=42)"
   ]
  },
  {
   "cell_type": "code",
   "execution_count": 7,
   "id": "4ec6b89f",
   "metadata": {},
   "outputs": [],
   "source": [
    "from sklearn.linear_model import LinearRegression\n",
    "from sklearn.tree import DecisionTreeRegressor\n",
    "from sklearn.svm import SVR"
   ]
  },
  {
   "cell_type": "code",
   "execution_count": 8,
   "id": "abad4f27",
   "metadata": {},
   "outputs": [
    {
     "data": {
      "text/plain": [
       "(77.58339025733345, 77.30984312051673)"
      ]
     },
     "execution_count": 8,
     "metadata": {},
     "output_type": "execute_result"
    }
   ],
   "source": [
    "lr=LinearRegression()\n",
    "lr.fit(x_train,y_train)\n",
    "lr.score(x_train,y_train)*100,lr.score(x_test,y_test)*100"
   ]
  },
  {
   "cell_type": "code",
   "execution_count": 9,
   "id": "7fd58878",
   "metadata": {},
   "outputs": [
    {
     "data": {
      "text/plain": [
       "(95.1559200955432, 52.19733481708333)"
      ]
     },
     "execution_count": 9,
     "metadata": {},
     "output_type": "execute_result"
    }
   ],
   "source": [
    "dr=DecisionTreeRegressor()\n",
    "dr.fit(x_train,y_train)\n",
    "dr.score(x_train,y_train)*100,dr.score(x_test,y_test)*100"
   ]
  },
  {
   "cell_type": "code",
   "execution_count": 10,
   "id": "94a85d67",
   "metadata": {},
   "outputs": [
    {
     "data": {
      "text/plain": [
       "(78.16909319813372, 75.94945442913415)"
      ]
     },
     "execution_count": 10,
     "metadata": {},
     "output_type": "execute_result"
    }
   ],
   "source": [
    "sv=SVR()\n",
    "sv.fit(x_train,y_train)\n",
    "sv.score(x_train,y_train)*100,sv.score(x_test,y_test)*100"
   ]
  },
  {
   "cell_type": "code",
   "execution_count": 11,
   "id": "b66fa133",
   "metadata": {},
   "outputs": [],
   "source": [
    "from sklearn.ensemble import VotingRegressor"
   ]
  },
  {
   "cell_type": "code",
   "execution_count": 12,
   "id": "64acbeee",
   "metadata": {},
   "outputs": [],
   "source": [
    "li=[('lr1',LinearRegression()),('dr1',DecisionTreeRegressor()),('sv1',SVR())]"
   ]
  },
  {
   "cell_type": "code",
   "execution_count": 13,
   "id": "923727b9",
   "metadata": {},
   "outputs": [
    {
     "data": {
      "text/plain": [
       "VotingRegressor(estimators=[('lr1', LinearRegression()),\n",
       "                            ('dr1', DecisionTreeRegressor()), ('sv1', SVR())],\n",
       "                weights=[20, 8, 6])"
      ]
     },
     "execution_count": 13,
     "metadata": {},
     "output_type": "execute_result"
    }
   ],
   "source": [
    "vr=VotingRegressor(li,weights=[20,8,6])\n",
    "vr.fit(x_train,y_train)\n"
   ]
  },
  {
   "cell_type": "code",
   "execution_count": 14,
   "id": "bb13534b",
   "metadata": {},
   "outputs": [
    {
     "data": {
      "text/plain": [
       "(85.0453695576082, 76.7017967139165)"
      ]
     },
     "execution_count": 14,
     "metadata": {},
     "output_type": "execute_result"
    }
   ],
   "source": [
    "vr.score(x_train,y_train)*100,vr.score(x_test,y_test)*100"
   ]
  },
  {
   "cell_type": "code",
   "execution_count": 15,
   "id": "74cc2b1a",
   "metadata": {},
   "outputs": [],
   "source": [
    "pred={'li':lr.predict(x_test),'dr':dr.predict(x_test),'sv':sv.predict(x_test),'vr':vr.predict(x_test)}"
   ]
  },
  {
   "cell_type": "code",
   "execution_count": 40,
   "id": "ffcca9ea",
   "metadata": {},
   "outputs": [
    {
     "data": {
      "text/html": [
       "<div>\n",
       "<style scoped>\n",
       "    .dataframe tbody tr th:only-of-type {\n",
       "        vertical-align: middle;\n",
       "    }\n",
       "\n",
       "    .dataframe tbody tr th {\n",
       "        vertical-align: top;\n",
       "    }\n",
       "\n",
       "    .dataframe thead th {\n",
       "        text-align: right;\n",
       "    }\n",
       "</style>\n",
       "<table border=\"1\" class=\"dataframe\">\n",
       "  <thead>\n",
       "    <tr style=\"text-align: right;\">\n",
       "      <th></th>\n",
       "      <th>li</th>\n",
       "      <th>dr</th>\n",
       "      <th>sv</th>\n",
       "      <th>vr</th>\n",
       "    </tr>\n",
       "  </thead>\n",
       "  <tbody>\n",
       "    <tr>\n",
       "      <th>0</th>\n",
       "      <td>2.780313</td>\n",
       "      <td>2.9200</td>\n",
       "      <td>2.745462</td>\n",
       "      <td>2.807031</td>\n",
       "    </tr>\n",
       "    <tr>\n",
       "      <th>1</th>\n",
       "      <td>3.136352</td>\n",
       "      <td>3.2525</td>\n",
       "      <td>3.111375</td>\n",
       "      <td>3.159274</td>\n",
       "    </tr>\n",
       "    <tr>\n",
       "      <th>2</th>\n",
       "      <td>3.199521</td>\n",
       "      <td>2.9200</td>\n",
       "      <td>3.186923</td>\n",
       "      <td>3.131528</td>\n",
       "    </tr>\n",
       "  </tbody>\n",
       "</table>\n",
       "</div>"
      ],
      "text/plain": [
       "         li      dr        sv        vr\n",
       "0  2.780313  2.9200  2.745462  2.807031\n",
       "1  3.136352  3.2525  3.111375  3.159274\n",
       "2  3.199521  2.9200  3.186923  3.131528"
      ]
     },
     "execution_count": 40,
     "metadata": {},
     "output_type": "execute_result"
    }
   ],
   "source": [
    "pd.DataFrame(pred).head(3)"
   ]
  },
  {
   "cell_type": "code",
   "execution_count": 38,
   "id": "f9e46817",
   "metadata": {},
   "outputs": [
    {
     "data": {
      "text/plain": [
       "8.445775"
      ]
     },
     "execution_count": 38,
     "metadata": {},
     "output_type": "execute_result"
    }
   ],
   "source": [
    "2.780313+2.920000+2.745462"
   ]
  },
  {
   "cell_type": "code",
   "execution_count": 39,
   "id": "e2d5b4df",
   "metadata": {},
   "outputs": [
    {
     "data": {
      "text/plain": [
       "2.815258333333333"
      ]
     },
     "execution_count": 39,
     "metadata": {},
     "output_type": "execute_result"
    }
   ],
   "source": [
    "8.445775/3"
   ]
  },
  {
   "cell_type": "code",
   "execution_count": null,
   "id": "00be6466",
   "metadata": {},
   "outputs": [],
   "source": []
  }
 ],
 "metadata": {
  "kernelspec": {
   "display_name": "Python 3 (ipykernel)",
   "language": "python",
   "name": "python3"
  },
  "language_info": {
   "codemirror_mode": {
    "name": "ipython",
    "version": 3
   },
   "file_extension": ".py",
   "mimetype": "text/x-python",
   "name": "python",
   "nbconvert_exporter": "python",
   "pygments_lexer": "ipython3",
   "version": "3.9.12"
  }
 },
 "nbformat": 4,
 "nbformat_minor": 5
}
